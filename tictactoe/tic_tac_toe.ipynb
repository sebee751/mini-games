{
 "cells": [
  {
   "cell_type": "code",
   "execution_count": 4,
   "metadata": {},
   "outputs": [
    {
     "name": "stdin",
     "output_type": "stream",
     "text": [
      "1 ou 2 joueurs ? :  1\n"
     ]
    },
    {
     "name": "stdout",
     "output_type": "stream",
     "text": [
      "1\n",
      "┌───┬───┬───┐\n",
      "│   │   │   │\n",
      "├───┼───┼───┤\n",
      "│   │ x │   │\n",
      "├───┼───┼───┤\n",
      "│   │   │   │\n",
      "└───┴───┴───┘\n"
     ]
    },
    {
     "name": "stdin",
     "output_type": "stream",
     "text": [
      "Où souhaitez-vous jouer 'o' ?  7\n"
     ]
    },
    {
     "name": "stdout",
     "output_type": "stream",
     "text": [
      "┌───┬───┬───┐\n",
      "│ o │   │   │\n",
      "├───┼───┼───┤\n",
      "│   │ x │   │\n",
      "├───┼───┼───┤\n",
      "│   │   │   │\n",
      "└───┴───┴───┘\n",
      "┌───┬───┬───┐\n",
      "│ o │   │   │\n",
      "├───┼───┼───┤\n",
      "│   │ x │   │\n",
      "├───┼───┼───┤\n",
      "│   │   │ x │\n",
      "└───┴───┴───┘\n"
     ]
    },
    {
     "name": "stdin",
     "output_type": "stream",
     "text": [
      "Où souhaitez-vous jouer 'o' ?  1\n"
     ]
    },
    {
     "name": "stdout",
     "output_type": "stream",
     "text": [
      "┌───┬───┬───┐\n",
      "│ o │   │   │\n",
      "├───┼───┼───┤\n",
      "│   │ x │   │\n",
      "├───┼───┼───┤\n",
      "│ o │   │ x │\n",
      "└───┴───┴───┘\n",
      "┌───┬───┬───┐\n",
      "│ o │   │   │\n",
      "├───┼───┼───┤\n",
      "│ x │ x │   │\n",
      "├───┼───┼───┤\n",
      "│ o │   │ x │\n",
      "└───┴───┴───┘\n"
     ]
    },
    {
     "name": "stdin",
     "output_type": "stream",
     "text": [
      "Où souhaitez-vous jouer 'o' ?  9\n"
     ]
    },
    {
     "name": "stdout",
     "output_type": "stream",
     "text": [
      "┌───┬───┬───┐\n",
      "│ o │   │ o │\n",
      "├───┼───┼───┤\n",
      "│ x │ x │   │\n",
      "├───┼───┼───┤\n",
      "│ o │   │ x │\n",
      "└───┴───┴───┘\n",
      "┌───┬───┬───┐\n",
      "│ o │   │ o │\n",
      "├───┼───┼───┤\n",
      "│ x │ x │ x │\n",
      "├───┼───┼───┤\n",
      "│ o │   │ x │\n",
      "└───┴───┴───┘\n",
      "Le joueur 'x' gagne !\n"
     ]
    }
   ],
   "source": [
    "#Tic tac toe\n",
    "from random import choice\n",
    "\n",
    "DICT_SYMBOLES = {0:\" \", -1:\"o\", 1:\"x\"}\n",
    "\n",
    "KEYB_FR = [[\"A\", \"Z\", \"E\"], \n",
    "           [\"Q\", \"S\", \"D\"], \n",
    "           [\"W\", \"X\", \"C\"]\n",
    "          ]\n",
    "\n",
    "KEYB_US = [[\"Q\", \"W\", \"E\"], \n",
    "           [\"A\", \"S\", \"D\"], \n",
    "           [\"Z\", \"X\", \"C\"]\n",
    "          ]\n",
    "\n",
    "KEYB_BP = [[\"B\", \"É\", \"P\"], \n",
    "           [\"A\", \"U\", \"I\"], \n",
    "           [\"À\", \"Y\", \"X\"]\n",
    "          ]\n",
    "\n",
    "COMMANDES_NUM = [[\"7\", \"8\", \"9\"], \n",
    "                 [\"4\", \"5\", \"6\"], \n",
    "                 [\"1\", \"2\", \"3\"]\n",
    "                ]\n",
    "\n",
    "COMMANDES_ALPHA = KEYB_FR\n",
    "\n",
    "\n",
    "# lorsque l'ordinateur joue, vérifie si des lignes sont à compléter/bloquer\n",
    "def completude_lignes(nature, plateau):\n",
    "    for ligne in range(3):\n",
    "        if sum(plateau[ligne]) == (nature * 2):\n",
    "            for colonne in range(3):\n",
    "                if plateau[ligne][colonne] == 0:\n",
    "                    return ligne, colonne\n",
    "    return -1, -1\n",
    "\n",
    "# lorsque l'ordinateur joue, permet de transposer le plateau afin d'utiliser \"completude_lignes()\" pour les colonnes    \n",
    "def transposer(plateau):\n",
    "    return [[ligne[i] for ligne in plateau] for i in range(len(plateau[0]))]\n",
    "\n",
    "# lorsque l'ordinateur jour, vérifie si des diagonales sont à compléter/bloquer\n",
    "def completude_diagonales(nature, plateau):\n",
    "    for colonne in (0, 2):\n",
    "        coo_diagonales = [(0, colonne), (1, 1), (2, 2 - colonne)]\n",
    "        val_diagonales = [plateau[ligne][colonne] for ligne, colonne in coo_diagonales]\n",
    "        if sum(val_diagonales) == (2 * nature):\n",
    "            for i in range(len(val_diagonales)):\n",
    "                if val_diagonales[i] == 0:\n",
    "                    ligne, colonne = coo_diagonales[i]\n",
    "                    return ligne, colonne\n",
    "    return -1, -1    \n",
    "    \n",
    "# algorithme utilisé pour retourner les coordonnées du coup de l'ordinateur\n",
    "def coup_cpu(cpu, plateau):\n",
    "    ligne, colonne = -1, -1\n",
    "    \n",
    "    # d'abord : compléter une ligne/colonne/diagonale\n",
    "    if ligne == -1:\n",
    "        ligne, colonne = completude_lignes(cpu, plateau)\n",
    "    if ligne == -1:\n",
    "        colonne, ligne = completude_lignes(cpu, transposer(plateau))   \n",
    "    if ligne == -1:\n",
    "        ligne, colonne = completude_diagonales(cpu, plateau) \n",
    "\n",
    "    # sinon : bloquer une ligne/colonne/diagonale de l'adversaire\n",
    "    if ligne == -1:\n",
    "        ligne, colonne = completude_lignes(-cpu, plateau)\n",
    "    if ligne == -1:\n",
    "        colonne, ligne = completude_lignes(-cpu, transposer(plateau))\n",
    "    if ligne == -1:\n",
    "        ligne, colonne = completude_diagonales(-cpu, plateau)\n",
    "\n",
    "    # sinon : jouer le milieu\n",
    "    if ligne == -1:\n",
    "        if plateau[1][1] == 0:\n",
    "            ligne, colonne = 1, 1\n",
    "\n",
    "    # sinon : jouer un coin\n",
    "    if ligne == -1:\n",
    "        coo_coins = [(0,0), (0,2), (2,0), (2,2)]\n",
    "        val_coins = [plateau[ligne][colonne] for ligne, colonne in coo_coins]\n",
    "        coins_vides = [coo_coins[i] for i in range(len(val_coins)) if val_coins[i] == 0]\n",
    "        if len(coins_vides) != 0:\n",
    "            ligne, colonne = choice(coins_vides)\n",
    "\n",
    "    # sinon : jouer un côté\n",
    "    if ligne == -1:\n",
    "        coo_cotes = [(0,1), (1,0), (1,2), (2,1)]\n",
    "        val_cotes = [plateau[ligne][colonne] for ligne, colonne in coo_cotes]\n",
    "        cotes_vides = [coo_cotes[i] for i in range(len(val_cotes)) if val_cotes[i] == 0]\n",
    "        ligne, colonne = choice(cotes_vides)\n",
    "        \n",
    "    return(ligne, colonne)\n",
    "\n",
    "# affichage du plateau\n",
    "def afficher_plateau(plateau):\n",
    "    valeurs = [DICT_SYMBOLES[val] for ligne in plateau for val in ligne]\n",
    "    ligne_haut = \"┌───┬───┬───┐\"\n",
    "    ligne_mid = \"├───┼───┼───┤\"\n",
    "    ligne_bas = \"└───┴───┴───┘\"\n",
    "    ligne_val1 = f\"│ {valeurs[0]} │ {valeurs[1]} │ {valeurs[2]} │\"\n",
    "    ligne_val2 = f\"│ {valeurs[3]} │ {valeurs[4]} │ {valeurs[5]} │\"\n",
    "    ligne_val3 = f\"│ {valeurs[6]} │ {valeurs[7]} │ {valeurs[8]} │\"\n",
    "\n",
    "    plateau_graphique = [ligne_haut, \n",
    "                         ligne_val1, \n",
    "                         ligne_mid, \n",
    "                         ligne_val2, \n",
    "                         ligne_mid, \n",
    "                         ligne_val3, \n",
    "                         ligne_bas\n",
    "                        ]\n",
    "\n",
    "    for ligne in plateau_graphique:\n",
    "        print(ligne)\n",
    "\n",
    "# demande le coup du joueur et retourne les coordonnées\n",
    "def demander_coup(joueur, plateau):\n",
    "    # liste des coups possibles (cases vides)\n",
    "    coups_possibles = [valeur for coo_ligne, ligne in enumerate(COMMANDES_NUM) for coo_valeur, valeur in enumerate(ligne) if plateau[coo_ligne][coo_valeur] == 0] + [valeur for coo_ligne, ligne in enumerate(COMMANDES_ALPHA) for coo_valeur, valeur in enumerate(ligne) if plateau[coo_ligne][coo_valeur] == 0]\n",
    "\n",
    "    # demander dans quelle case le joueur souhaite jouer\n",
    "    coup = \"\"\n",
    "    while coup not in coups_possibles:\n",
    "        coup = input(f\"Où souhaitez-vous jouer '{DICT_SYMBOLES[joueur]}' ? \").upper()\n",
    "    [(lig, col)] = [(coo_ligne, coo_valeur) for coo_ligne, ligne in enumerate(COMMANDES_NUM) for coo_valeur, valeur in enumerate(ligne) if valeur == coup] + [(coo_ligne, coo_valeur) for coo_ligne, ligne in enumerate(COMMANDES_ALPHA) for coo_valeur, valeur in enumerate(ligne) if valeur == coup]\n",
    "\n",
    "    # positionnement du coup sur le plateau\n",
    "\n",
    "    return lig, col\n",
    "\n",
    "# vérifie si le jeu est terminé (trois symboles identiques alignés ou grille pleine)\n",
    "def fin_du_jeu(plateau):\n",
    "    somme_lig = [sum(ligne) for ligne in plateau]\n",
    "    somme_col = [sum([plateau[ligne][colonne] for ligne in range(len(plateau))]) for colonne in range(len(plateau[0]))]\n",
    "    somme_diag = [plateau[0][0] + plateau[1][1] + plateau[2][2], plateau[0][2] + plateau[1][1] + plateau[2][0]]\n",
    "    somme_all = somme_lig + somme_col + somme_diag\n",
    "    if max(somme_all) == 3:\n",
    "        print(f\"Le joueur '{DICT_SYMBOLES[1]}' gagne !\")\n",
    "        return True\n",
    "    if min(somme_all) == -3:\n",
    "        print(f\"Le joueur '{DICT_SYMBOLES[-1]}' gagne !\")\n",
    "        return True\n",
    "    if len([valeur for ligne in plateau for valeur in ligne if valeur == 0]) == 0:\n",
    "        print(\"Égalité.\")\n",
    "        return True\n",
    "    return False\n",
    "\n",
    "def tictactoe():\n",
    "    #initialisation des variables\n",
    "    plateau = [[0, 0, 0], \n",
    "               [0, 0, 0], \n",
    "               [0, 0, 0]\n",
    "              ]\n",
    "\n",
    "    cpu = 0\n",
    "    joueur = 1\n",
    "\n",
    "    nb_joueurs = \"\"\n",
    "    while nb_joueurs not in (\"1\", \"2\"):\n",
    "        nb_joueurs = input(\"1 ou 2 joueurs ? : \")\n",
    "\n",
    "    if nb_joueurs == \"1\":\n",
    "        cpu = choice([-1, 1])\n",
    "    print(cpu)\n",
    "\n",
    "    while not fin_du_jeu(plateau):\n",
    "        if joueur == cpu:\n",
    "            ligne, colonne = coup_cpu(cpu, plateau)\n",
    "        else:\n",
    "            ligne, colonne = demander_coup(joueur, plateau)\n",
    "        plateau[ligne][colonne] = joueur\n",
    "        afficher_plateau(plateau)\n",
    "        joueur = - joueur\n",
    "\n",
    "tictactoe()"
   ]
  },
  {
   "cell_type": "code",
   "execution_count": 104,
   "metadata": {},
   "outputs": [
    {
     "data": {
      "text/plain": [
       "[1, 0, 0]"
      ]
     },
     "execution_count": 104,
     "metadata": {},
     "output_type": "execute_result"
    }
   ],
   "source": [
    "[sum([plateau[ligne][colonne] for ligne in range(len(plateau))]) for colonne in range(len(plateau[0]))]"
   ]
  },
  {
   "cell_type": "code",
   "execution_count": 106,
   "metadata": {},
   "outputs": [
    {
     "data": {
      "text/plain": [
       "[0, 0]"
      ]
     },
     "execution_count": 106,
     "metadata": {},
     "output_type": "execute_result"
    }
   ],
   "source": [
    "[plateau[0][0] + plateau[1][1] + plateau[2][2], plateau[0][2] + plateau[1][1] + plateau[2][0]]"
   ]
  },
  {
   "cell_type": "code",
   "execution_count": 118,
   "metadata": {},
   "outputs": [
    {
     "data": {
      "text/plain": [
       "(2, 0)"
      ]
     },
     "execution_count": 118,
     "metadata": {},
     "output_type": "execute_result"
    }
   ],
   "source": [
    "cpu = -1\n",
    "plateau = [[-1, 0, 0],[0, 1, 0],[0, 0, -1]]\n",
    "\n",
    "from random import choice\n",
    "\n",
    "\n",
    "def completude_lignes(nature, plateau):\n",
    "    for ligne in range(3):\n",
    "        if sum(plateau[ligne]) == (nature * 2):\n",
    "            for colonne in range(3):\n",
    "                if plateau[ligne][colonne] == 0:\n",
    "                    return ligne, colonne\n",
    "    return -1, -1\n",
    "                \n",
    "\n",
    "def completude_diagonales(nature, plateau):\n",
    "    for colonne in (0, 2):\n",
    "        coo_diagonales = [(0, colonne), (1, 1), (2, 2 - colonne)]\n",
    "        val_diagonales = [plateau[ligne][colonne] for ligne, colonne in coo_diagonales]\n",
    "        if sum(val_diagonales) == (2 * nature):\n",
    "            for i in range(len(val_diagonales)):\n",
    "                if val_diagonales[i] == 0:\n",
    "                    ligne, colonne = coo_diagonales[i]\n",
    "                    return ligne, colonne\n",
    "    return -1, -1    \n",
    "    \n",
    "    \n",
    "def transposer(plateau):\n",
    "    return [[ligne[i] for ligne in plateau] for i in range(len(plateau[0]))]\n",
    "\n",
    "def coup_cpu():\n",
    "    ligne, colonne = -1, -1\n",
    "    if ligne == -1:\n",
    "        ligne, colonne = completude_lignes(cpu, plateau)\n",
    "    if ligne == -1:\n",
    "        colonne, ligne = completude_lignes(cpu, transposer(plateau))   \n",
    "    if ligne == -1:\n",
    "        ligne, colonne = completude_diagonales(cpu, plateau) \n",
    "\n",
    "    if ligne == -1:\n",
    "        ligne, colonne = completude_lignes(-cpu, plateau)\n",
    "    if ligne == -1:\n",
    "        colonne, ligne = completude_lignes(-cpu, transposer(plateau))\n",
    "    if ligne == -1:\n",
    "        ligne, colonne = completude_diagonales(-cpu, plateau)\n",
    "\n",
    "    if ligne == -1:\n",
    "        if plateau[1][1] == 0:\n",
    "            ligne, colonne = 1, 1\n",
    "\n",
    "    if ligne == -1:\n",
    "        coo_coins = [(0,0), (0,2), (2,0), (2,2)]\n",
    "        val_coins = [plateau[ligne][colonne] for ligne, colonne in coo_coins]\n",
    "        coins_vides = [coo_coins[i] for i in range(len(val_coins)) if val_coins[i] == 0]\n",
    "        ligne, colonne = choice(coins_vides)\n",
    "    \n",
    "    if ligne == -1:\n",
    "        coo_cotes = [(0,1), (1,0), (1,2), (2,1)]\n",
    "        val_coins = [plateau[ligne][colonne] for ligne, colonne in coo_cotes]\n",
    "        cotes_vides = [coo_cotes[i] for i in range(len(val_cotes)) if val_cotes[i] == 0]\n",
    "        ligne, colonne = choice(cotes_vides)\n",
    "        \n",
    "    return(ligne, colonne)\n",
    "\n",
    "coup_cpu()"
   ]
  },
  {
   "cell_type": "code",
   "execution_count": 112,
   "metadata": {},
   "outputs": [
    {
     "data": {
      "text/plain": [
       "[[-1, 0, 0], [0, 1, 0], [0, 0, -1]]"
      ]
     },
     "execution_count": 112,
     "metadata": {},
     "output_type": "execute_result"
    }
   ],
   "source": [
    "transposer(plateau)"
   ]
  },
  {
   "cell_type": "code",
   "execution_count": 113,
   "metadata": {},
   "outputs": [
    {
     "data": {
      "text/plain": [
       "[[1, -1, 0], [1, 1, 0], [0, 0, 1]]"
      ]
     },
     "execution_count": 113,
     "metadata": {},
     "output_type": "execute_result"
    }
   ],
   "source": [
    "plateau = [[1, 1, 0],[-1, 1, 0],[0, 0, 1]]\n",
    "[[ligne[i] for ligne in plateau] for i in range(len(plateau[0]))]\n",
    "\n"
   ]
  },
  {
   "cell_type": "code",
   "execution_count": 114,
   "metadata": {},
   "outputs": [
    {
     "data": {
      "text/plain": [
       "[[-1, 1, 0], [-1, 0, 0], [0, 0, 0]]"
      ]
     },
     "execution_count": 114,
     "metadata": {},
     "output_type": "execute_result"
    }
   ],
   "source": [
    "plateau = [[-1, 1, 0],[-1, 0, 0],[0, 0, 0]]\n",
    "[[ligne[i] for i in range(len(ligne))] for ligne in plateau]"
   ]
  },
  {
   "cell_type": "code",
   "execution_count": 79,
   "metadata": {},
   "outputs": [
    {
     "name": "stdout",
     "output_type": "stream",
     "text": [
      "2 0\n"
     ]
    }
   ],
   "source": [
    "plateau = [[0, 1, -1],[0, -1, 0],[0, 0, 0]]\n",
    "\n",
    "nature = -1\n",
    "\n",
    "def completude_diagonales(nature, plateau):\n",
    "    for colonne in (0, 2):\n",
    "        coo_diagonales = [(0, colonne), (1, 1), (2, 2 - colonne)]\n",
    "        val_diagonales = [plateau[ligne][colonne] for ligne, colonne in coo_diagonales]\n",
    "        if sum(val_diagonales) == 2 * nature:\n",
    "            for i in range(len(val_diagonales)):\n",
    "                if val_diagonales[i] == 0:\n",
    "                    ligne, colonne = coo_diagonales[i]\n",
    "                    return ligne, colonne\n",
    "    return -1, -1"
   ]
  },
  {
   "cell_type": "code",
   "execution_count": 67,
   "metadata": {},
   "outputs": [
    {
     "name": "stdout",
     "output_type": "stream",
     "text": [
      "[(0, 0), (1, 1), (2, 2)] [-1, -1, 0]\n"
     ]
    }
   ],
   "source": [
    "    coo_diagonales = [(0, colonne), (1, 1), (2, 2 - colonne)]\n",
    "    val_diagonales = [plateau[ligne][colonne] for ligne, colonne in coo_diagonales]\n",
    "    print (coo_diagonales, val_diagonales)"
   ]
  },
  {
   "cell_type": "code",
   "execution_count": 7,
   "metadata": {},
   "outputs": [
    {
     "data": {
      "text/plain": [
       "2"
      ]
     },
     "execution_count": 7,
     "metadata": {},
     "output_type": "execute_result"
    }
   ],
   "source": [
    "choice([1, 2, 3])"
   ]
  },
  {
   "cell_type": "code",
   "execution_count": null,
   "metadata": {},
   "outputs": [],
   "source": []
  }
 ],
 "metadata": {
  "kernelspec": {
   "display_name": "Python 3",
   "language": "python",
   "name": "python3"
  },
  "language_info": {
   "codemirror_mode": {
    "name": "ipython",
    "version": 3
   },
   "file_extension": ".py",
   "mimetype": "text/x-python",
   "name": "python",
   "nbconvert_exporter": "python",
   "pygments_lexer": "ipython3",
   "version": "3.7.6"
  }
 },
 "nbformat": 4,
 "nbformat_minor": 4
}
