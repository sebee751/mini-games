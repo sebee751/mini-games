{
 "cells": [
  {
   "cell_type": "code",
   "execution_count": 7,
   "metadata": {},
   "outputs": [
    {
     "name": "stdin",
     "output_type": "stream",
     "text": [
      "Choisissez le nombre minimum :  1\n",
      "Choisissez le nombre maximum :  100\n",
      "Trouver un nombre entre 1 et 100 :  q\n"
     ]
    },
    {
     "name": "stdout",
     "output_type": "stream",
     "text": [
      "La solution était 74\n"
     ]
    }
   ],
   "source": [
    "import random\n",
    "\n",
    "def definir_nombre_cpu(nb_min, nb_max):\n",
    "    return random.randint(1, nb_max)\n",
    "\n",
    "def definir_seuils():\n",
    "    nb_min_str = input(f\"Choisissez le nombre minimum : \")\n",
    "    nb_max_str = input(f\"Choisissez le nombre maximum : \")\n",
    "    nb_min = int(nb_min_str)\n",
    "    nb_max = int(nb_max_str)\n",
    "    return nb_min, nb_max\n",
    "\n",
    "def demander_proposition(nb_min, nb_max):\n",
    "    proposition_str = input(f\"Trouver un nombre entre {nb_min} et {nb_max} : \")\n",
    "    if proposition_str.lower() in ('q', 'quit', 'exit'):\n",
    "        return proposition_str.lower()\n",
    "    proposition = int(proposition_str)\n",
    "    return proposition\n",
    "\n",
    "def resultat(proposition, a_trouver):\n",
    "    if proposition in ('q', 'quit', 'exit'):\n",
    "        print(f\"Abandon. La solution était {a_trouver}.\")\n",
    "        return 1\n",
    "    elif proposition < a_trouver:\n",
    "        print(\"Trop petit.\")\n",
    "        return 0\n",
    "    elif proposition > a_trouver:\n",
    "        print(\"Trop grand.\")\n",
    "        return 0\n",
    "    else:\n",
    "        print(\"Gagné !\")\n",
    "        return 1\n",
    "\n",
    "def trouver_le_nombre():\n",
    "    nb_min, nb_max = definir_seuils()\n",
    "    a_trouver = definir_nombre_cpu(nb_min, nb_max)\n",
    "\n",
    "    while True:\n",
    "        proposition = demander_proposition(nb_min, nb_max)\n",
    "        if resultat(proposition, a_trouver):\n",
    "            break\n",
    "    \n",
    "trouver_le_nombre()"
   ]
  },
  {
   "cell_type": "code",
   "execution_count": null,
   "metadata": {},
   "outputs": [],
   "source": []
  }
 ],
 "metadata": {
  "kernelspec": {
   "display_name": "Python 3",
   "language": "python",
   "name": "python3"
  },
  "language_info": {
   "codemirror_mode": {
    "name": "ipython",
    "version": 3
   },
   "file_extension": ".py",
   "mimetype": "text/x-python",
   "name": "python",
   "nbconvert_exporter": "python",
   "pygments_lexer": "ipython3",
   "version": "3.7.6"
  }
 },
 "nbformat": 4,
 "nbformat_minor": 4
}
