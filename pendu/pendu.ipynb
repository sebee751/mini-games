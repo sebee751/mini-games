{
 "cells": [
  {
   "cell_type": "markdown",
   "metadata": {},
   "source": [
    "# pendu"
   ]
  },
  {
   "cell_type": "code",
   "execution_count": 4,
   "metadata": {},
   "outputs": [
    {
     "name": "stdin",
     "output_type": "stream",
     "text": [
      "Mot en mode manuel (M) ou automatique (A) ? :  a\n"
     ]
    },
    {
     "name": "stdout",
     "output_type": "stream",
     "text": [
      "\n",
      "   \\ | / \n",
      "   ― O ― \n",
      "   / | \\ \n",
      " \n",
      "             O/ \n",
      "            /| \n",
      "            / \\ \n",
      "____________TTT \n",
      "TTTTTTTTTTTTTTTT \n",
      "\n",
      "............\n"
     ]
    },
    {
     "name": "stdin",
     "output_type": "stream",
     "text": [
      "Choisissez une lettre :  e\n"
     ]
    },
    {
     "name": "stdout",
     "output_type": "stream",
     "text": [
      "..E.E.E..E..\n"
     ]
    },
    {
     "name": "stdin",
     "output_type": "stream",
     "text": [
      "Choisissez une lettre :  s\n"
     ]
    },
    {
     "name": "stdout",
     "output_type": "stream",
     "text": [
      "..E.E.ESSE..\n"
     ]
    },
    {
     "name": "stdin",
     "output_type": "stream",
     "text": [
      "Choisissez une lettre :  a\n"
     ]
    },
    {
     "name": "stdout",
     "output_type": "stream",
     "text": [
      "\n",
      "   /\\ \\ | / \n",
      "   || ― O ― \n",
      "   || / | \\ \n",
      "   || \n",
      "   || \n",
      "   ||       \\O \n",
      "   ||        |\\ \n",
      "   ||       / \\ \n",
      "___||_______TTT \n",
      "TTTTTTTTTTTTTTTT \n",
      "\n",
      "..E.E.ESSE..\n"
     ]
    },
    {
     "name": "stdin",
     "output_type": "stream",
     "text": [
      "Choisissez une lettre :  r\n"
     ]
    },
    {
     "name": "stdout",
     "output_type": "stream",
     "text": [
      ".RE.E.ESSE.R\n"
     ]
    },
    {
     "name": "stdin",
     "output_type": "stream",
     "text": [
      "Choisissez une lettre :  i\n"
     ]
    },
    {
     "name": "stdout",
     "output_type": "stream",
     "text": [
      "\n",
      "   /\\   \\ | / \n",
      "   ||   ― O ― \n",
      "   ||   / | \\ \n",
      "   || \n",
      "   || \n",
      "   ||        O/ \n",
      "   ||       /| \n",
      "  /||       / \\ \n",
      "_//||_______TTT \n",
      "TTTTTTTTTTTTTTTT \n",
      "\n",
      ".RE.E.ESSE.R\n"
     ]
    },
    {
     "name": "stdin",
     "output_type": "stream",
     "text": [
      "Choisissez une lettre :  n\n"
     ]
    },
    {
     "name": "stdout",
     "output_type": "stream",
     "text": [
      "\n",
      "   /\\ \n",
      "   ||      \\ | / \n",
      "   ||      ― O ― \n",
      "   ||      / | \\ \n",
      "   || \n",
      "   ||       \\O \n",
      "   ||        |\\ \n",
      "  /||\\      / \\ \n",
      "_//||\\\\_____TTT \n",
      "TTTTTTTTTTTTTTTT \n",
      "\n",
      ".RE.E.ESSE.R\n"
     ]
    },
    {
     "name": "stdin",
     "output_type": "stream",
     "text": [
      "Choisissez une lettre :  t\n"
     ]
    },
    {
     "name": "stdout",
     "output_type": "stream",
     "text": [
      "\n",
      "   /\\ \n",
      "   ||        \\ | \n",
      "  _||_       ― O \n",
      "  \\__/       / | \n",
      "   || \n",
      "   ||        O/ \n",
      "   ||       /| \n",
      "  /||\\      / \\ \n",
      "_//||\\\\_____TTT \n",
      "TTTTTTTTTTTTTTTT \n",
      "\n",
      ".RE.E.ESSE.R\n"
     ]
    },
    {
     "name": "stdin",
     "output_type": "stream",
     "text": [
      "Choisissez une lettre :  o\n"
     ]
    },
    {
     "name": "stdout",
     "output_type": "stream",
     "text": [
      "\n",
      "   /\\ \n",
      " __||_________ \n",
      "/o_XX__o_o_o_o\\ \n",
      "  \\__/ \n",
      "   || \n",
      "   ||       \\O/ \n",
      "   ||        | \n",
      "  /||\\      / \\ \n",
      "_//||\\\\_____TTT \n",
      "TTTTTTTTTTTTTTTT \n",
      "\n",
      ".RE.E.ESSE.R\n"
     ]
    },
    {
     "name": "stdin",
     "output_type": "stream",
     "text": [
      "Choisissez une lettre :  u\n"
     ]
    },
    {
     "name": "stdout",
     "output_type": "stream",
     "text": [
      ".RE.E.ESSEUR\n"
     ]
    },
    {
     "name": "stdin",
     "output_type": "stream",
     "text": [
      "Choisissez une lettre :  f\n"
     ]
    },
    {
     "name": "stdout",
     "output_type": "stream",
     "text": [
      "\n",
      "   /\\ \n",
      " __||_________ \n",
      "/o_XX__o_o_o_o\\ \n",
      "  \\__/       | \n",
      "   ||  *gulp*| \n",
      "   ||       \\O/ \n",
      "   ||        | \n",
      "  /||\\      / \\ \n",
      "_//||\\\\_____TTT \n",
      "TTTTTTTTTTTTTTTT \n",
      "\n",
      ".RE.E.ESSEUR\n"
     ]
    },
    {
     "name": "stdin",
     "output_type": "stream",
     "text": [
      "Choisissez une lettre :  m\n"
     ]
    },
    {
     "name": "stdout",
     "output_type": "stream",
     "text": [
      "\n",
      "   /\\ \n",
      " __||_________ \n",
      "/o_XX__o_o_o_o\\ \n",
      "  \\__/       | \n",
      "   || *couic*| \n",
      "   ||        O \n",
      "   ||       /|\\ \n",
      "  /||\\      / \\ \n",
      "_//||\\\\________ \n",
      "TTTTTTTTTTTTTTTT \n",
      "\n",
      ".RE.E.ESSEUR\n",
      "Perdu... La réponse était PREDECESSEUR\n"
     ]
    }
   ],
   "source": [
    "from re import search\n",
    "from random import choice\n",
    "\n",
    "DESSINS_PENDU = [[\"\",\"   \\ | / \", \"   ― O ― \", \"   / | \\ \", \" \", \"             O/ \", \"            /| \", \"            / \\ \", \"____________TTT \", \"TTTTTTTTTTTTTTTT \", \"\"],\n",
    "                 [\"\",\"   /\\ \\ | / \", \"   || ― O ― \", \"   || / | \\ \", \"   || \", \"   || \", \"   ||       \\O \", \"   ||        |\\ \", \"   ||       / \\ \", \"___||_______TTT \", \"TTTTTTTTTTTTTTTT \", \"\"],\n",
    "                 [\"\",\"   /\\   \\ | / \", \"   ||   ― O ― \", \"   ||   / | \\ \", \"   || \", \"   || \", \"   ||        O/ \", \"   ||       /| \", \"  /||       / \\ \", \"_//||_______TTT \", \"TTTTTTTTTTTTTTTT \", \"\"],\n",
    "                 [\"\",\"   /\\ \", \"   ||      \\ | / \", \"   ||      ― O ― \", \"   ||      / | \\ \", \"   || \", \"   ||       \\O \", \"   ||        |\\ \", \"  /||\\      / \\ \", \"_//||\\\\\\\\_____TTT \", \"TTTTTTTTTTTTTTTT \", \"\"],\n",
    "                 [\"\",\"   /\\ \", \"   ||        \\ | \", \"  _||_       ― O \", \"  \\__/       / | \", \"   || \", \"   ||        O/ \", \"   ||       /| \", \"  /||\\      / \\ \", \"_//||\\\\\\\\_____TTT \", \"TTTTTTTTTTTTTTTT \", \"\"],\n",
    "                 [\"\",\"   /\\ \", \" __||_________ \", \"/o_XX__o_o_o_o\\ \", \"  \\__/ \", \"   || \", \"   ||       \\O/ \", \"   ||        | \", \"  /||\\      / \\ \", \"_//||\\\\\\\\_____TTT \", \"TTTTTTTTTTTTTTTT \", \"\"],\n",
    "                 [\"\",\"   /\\ \", \" __||_________ \", \"/o_XX__o_o_o_o\\ \", \"  \\__/       | \", \"   ||  *gulp*| \", \"   ||       \\O/ \", \"   ||        | \", \"  /||\\      / \\ \", \"_//||\\\\\\\\_____TTT \", \"TTTTTTTTTTTTTTTT \", \"\"],\n",
    "                 [\"\",\"   /\\ \", \" __||_________ \", \"/o_XX__o_o_o_o\\ \", \"  \\__/       | \", \"   || *couic*| \", \"   ||        O \", \"   ||       /|\\ \", \"  /||\\      / \\ \", \"_//||\\\\\\\\________ \", \"TTTTTTTTTTTTTTTT \", \"\"]\n",
    "                ]\n",
    "\n",
    "\n",
    "# pour choix automatique du mot dans une liste\n",
    "def choisir_mot(longueur_min, longueur_max, noms_propres):\n",
    "    location = './liste_francais_utf8.txt'\n",
    "    with open(location, 'r', encoding=\"utf8\") as f:\n",
    "        liste_mots = f.read().split(\"\\n\")\n",
    "\n",
    "    liste_mots_purg = [mot for mot in liste_mots if len(mot) >= longueur_min and len(mot) <= longueur_max and (mot[0] == mot[0].lower() or noms_propres)]\n",
    "    mot = convertir_caracteres(choice(liste_mots_purg))\n",
    "    return mot\n",
    "\n",
    "# pour saisie manuelle du mot\n",
    "def saisir_mot():\n",
    "    mot = \"\"\n",
    "    while mot == \"\":\n",
    "        mot = convertir_caracteres(input(\"Votre mot ? : \"))\n",
    "    for i in range(20):\n",
    "        print(\"\\n\")\n",
    "    return mot\n",
    "\n",
    "# restitution du mot en majuscules après remplacement des lettres spéciales (lettres accentuées, imbriquées...)\n",
    "def convertir_caracteres(mot):\n",
    "    mot = mot.lower()\n",
    "    dict_car = {\"à\" : \"a\", \"â\" : \"a\", \"ä\" : \"a\", \n",
    "                \"é\" : \"e\", \"è\" : \"e\", \"ê\" : \"e\", \"ë\" : \"e\", \n",
    "                \"ì\" : \"i\", \"î\" : \"i\", \"ï\" : \"i\", \n",
    "                \"ò\" : \"o\", \"ô\" : \"o\", \"ö\" : \"o\",\n",
    "                \"ù\" : \"u\", \"û\" : \"u\", \"ü\" : \"u\",\n",
    "                \"ç\": \"c\",\n",
    "                \"œ\" : \"oe\",\n",
    "                \"æ\" : \"ae\"}\n",
    "    \n",
    "    for caractere, remplacement in dict_car.items():\n",
    "        mot = mot.replace(caractere, remplacement)\n",
    "        \n",
    "    return mot.upper()\n",
    "\n",
    "# création du mot \"caché\". Les lettres sont remplacées par des points, les autres caractères ne sont pas remplacés.\n",
    "def cacher_mot(mot):\n",
    "    mot_cache = \"\"\n",
    "    for lettre in mot:\n",
    "        if search(\"[A-Z]\", lettre):\n",
    "            mot_cache += \".\"\n",
    "        else:\n",
    "            mot_cache += lettre\n",
    "\n",
    "    return mot_cache\n",
    "\n",
    "# on demande à l'utilisateur de saisir une lettre (entre a et z). la lettre est retournée en majuscule\n",
    "def saisie_proposition():\n",
    "    while True:\n",
    "        lettre = input(f\"Choisissez une lettre : \")\n",
    "        if search('[^a-zA-Z]', lettre) or len(lettre) > 1:\n",
    "            print(\"Veuillez saisir une seule lettre, non accentuée\")\n",
    "        else:\n",
    "            return lettre.upper()\n",
    "\n",
    "# affiche le mot \"caché\" avec les lettres découvertes\n",
    "def afficher_mot(mot, mot_cache, proposition):\n",
    "    return ''.join([lettre if lettre == proposition.upper() else mot_cache[pos] for pos, lettre in enumerate(mot)])\n",
    "\n",
    "# vérifie si la partie est terminée (mot trouvé ou pendu terminé)\n",
    "def fin(nb_erreurs, nb_essais, mot, mot_cache):\n",
    "    if mot==mot_cache:\n",
    "        print(\"Gagné !\")\n",
    "        return True\n",
    "    if nb_erreurs >= nb_essais - 1:\n",
    "        print(f\"Perdu... La réponse était {mot}\")\n",
    "        return True\n",
    "    return False\n",
    "\n",
    "# dessine le pendu\n",
    "def dessiner_pendu(nb_erreurs, mot_cache):\n",
    "    for ligne in DESSINS_PENDU[nb_erreurs]:\n",
    "        print(ligne)\n",
    "    print(mot_cache)\n",
    "\n",
    "\n",
    "# programme\n",
    "\n",
    "def pendu():\n",
    "    nb_essais = len(DESSINS_PENDU)\n",
    "\n",
    "    mot = \"\"\n",
    "    while mot == \"\":\n",
    "        mode_jeu = input(\"Mot en mode manuel (M) ou automatique (A) ? : \")\n",
    "        if mode_jeu in (\"m\", \"M\"):\n",
    "            mot = saisir_mot()\n",
    "        elif mode_jeu in (\"a\", \"A\"):\n",
    "            mot = choisir_mot(8, 18, False)\n",
    "\n",
    "    mot_cache = cacher_mot(mot)\n",
    "\n",
    "    nb_erreurs = 0\n",
    "    dessiner_pendu(nb_erreurs, mot_cache)\n",
    "\n",
    "    while not fin(nb_erreurs, nb_essais, mot, mot_cache):\n",
    "        proposition = saisie_proposition()\n",
    "        if proposition not in mot:\n",
    "            nb_erreurs += 1\n",
    "            dessiner_pendu(nb_erreurs, mot_cache)\n",
    "        else:\n",
    "            mot_cache=afficher_mot(mot, mot_cache, proposition)\n",
    "            print(mot_cache)\n",
    "    \n",
    "pendu()\n"
   ]
  }
 ],
 "metadata": {
  "kernelspec": {
   "display_name": "Python 3",
   "language": "python",
   "name": "python3"
  },
  "language_info": {
   "codemirror_mode": {
    "name": "ipython",
    "version": 3
   },
   "file_extension": ".py",
   "mimetype": "text/x-python",
   "name": "python",
   "nbconvert_exporter": "python",
   "pygments_lexer": "ipython3",
   "version": "3.7.6"
  }
 },
 "nbformat": 4,
 "nbformat_minor": 4
}
